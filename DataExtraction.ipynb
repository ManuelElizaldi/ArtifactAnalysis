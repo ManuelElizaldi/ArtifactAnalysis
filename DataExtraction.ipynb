{
 "cells": [
  {
   "cell_type": "code",
   "execution_count": 1,
   "metadata": {},
   "outputs": [],
   "source": [
    "import requests\n",
    "import pandas as pd\n",
    "from config import smithsonian_api_key"
   ]
  },
  {
   "cell_type": "markdown",
   "metadata": {},
   "source": [
    "## Art Institute of Chicago API"
   ]
  },
  {
   "cell_type": "code",
   "execution_count": null,
   "metadata": {},
   "outputs": [],
   "source": [
    "# Extracting data from Art Institute of Chicago API\n",
    "df = pd.DataFrame()\n",
    "for i in range(1,1500):\n",
    "    r = requests.get(url = f'https://api.artic.edu/api/v1/artworks?page={i}&limit=100').json()\n",
    "    r = pd.json_normalize(r, ['data'])\n",
    "    df = df.append(r, ignore_index=True) # type: ignore\n",
    "\n",
    "df.head(5)\n",
    "#df = pd.read_csv(r'C:\\Users\\Manuel Elizaldi\\Desktop\\Learning-Testing\\Artificial-Art\\Resources\\bigChicago_art.csv')"
   ]
  },
  {
   "cell_type": "markdown",
   "metadata": {},
   "source": [
    "# Smithsonian"
   ]
  },
  {
   "cell_type": "code",
   "execution_count": 9,
   "metadata": {},
   "outputs": [
    {
     "data": {
      "text/plain": [
       "<Response [404]>"
      ]
     },
     "execution_count": 9,
     "metadata": {},
     "output_type": "execute_result"
    }
   ],
   "source": [
    "ID = '2'\n",
    "url = f'https://api.si.edu/openaccess/api/v1.0/content/:{ID}'\n",
    "params = {'api_key':smithsonian_api_key}\n",
    "r = requests.get(url, params=params)\n",
    "r"
   ]
  },
  {
   "cell_type": "code",
   "execution_count": 26,
   "metadata": {},
   "outputs": [
    {
     "ename": "TypeError",
     "evalue": "list indices must be integers or slices, not str",
     "output_type": "error",
     "traceback": [
      "\u001b[1;31m---------------------------------------------------------------------------\u001b[0m",
      "\u001b[1;31mTypeError\u001b[0m                                 Traceback (most recent call last)",
      "\u001b[1;32m<ipython-input-26-28e25b596d3b>\u001b[0m in \u001b[0;36m<module>\u001b[1;34m\u001b[0m\n\u001b[0;32m     11\u001b[0m \u001b[1;31m# Make the API request\u001b[0m\u001b[1;33m\u001b[0m\u001b[1;33m\u001b[0m\u001b[1;33m\u001b[0m\u001b[0m\n\u001b[0;32m     12\u001b[0m \u001b[0mr\u001b[0m \u001b[1;33m=\u001b[0m \u001b[0mrequests\u001b[0m\u001b[1;33m.\u001b[0m\u001b[0mget\u001b[0m\u001b[1;33m(\u001b[0m\u001b[0mbase_url\u001b[0m\u001b[1;33m,\u001b[0m \u001b[0mparams\u001b[0m\u001b[1;33m=\u001b[0m\u001b[0mparams\u001b[0m\u001b[1;33m)\u001b[0m\u001b[1;33m.\u001b[0m\u001b[0mjson\u001b[0m\u001b[1;33m(\u001b[0m\u001b[1;33m)\u001b[0m\u001b[1;33m\u001b[0m\u001b[1;33m\u001b[0m\u001b[0m\n\u001b[1;32m---> 13\u001b[1;33m \u001b[0mr\u001b[0m \u001b[1;33m=\u001b[0m \u001b[0mr\u001b[0m\u001b[1;33m[\u001b[0m\u001b[1;34m'response'\u001b[0m\u001b[1;33m]\u001b[0m\u001b[1;33m[\u001b[0m\u001b[1;34m'rows'\u001b[0m\u001b[1;33m]\u001b[0m\u001b[1;33m[\u001b[0m\u001b[1;34m'content.freetext.date'\u001b[0m\u001b[1;33m]\u001b[0m\u001b[1;33m\u001b[0m\u001b[1;33m\u001b[0m\u001b[0m\n\u001b[0m\u001b[0;32m     14\u001b[0m \u001b[0msmithsonian_df\u001b[0m \u001b[1;33m=\u001b[0m \u001b[0mpd\u001b[0m\u001b[1;33m.\u001b[0m\u001b[0mjson_normalize\u001b[0m\u001b[1;33m(\u001b[0m\u001b[0mr\u001b[0m\u001b[1;33m)\u001b[0m\u001b[1;33m\u001b[0m\u001b[1;33m\u001b[0m\u001b[0m\n\u001b[0;32m     15\u001b[0m \u001b[0msmithsonian_df\u001b[0m\u001b[1;33m\u001b[0m\u001b[1;33m\u001b[0m\u001b[0m\n",
      "\u001b[1;31mTypeError\u001b[0m: list indices must be integers or slices, not str"
     ]
    }
   ],
   "source": [
    "# First step, extract data for each country/region\n",
    "\n",
    "base_url = \"https://api.si.edu/openaccess/api/v1.0/search\"\n",
    "\n",
    "# Define the parameters for the search request\n",
    "params = {\n",
    "    \"api_key\": smithsonian_api_key,\n",
    "    \"q\": 'Africa',\n",
    "    \"rows\": 1000, \n",
    "    \"start\": 0, \n",
    "}\n",
    "\n",
    "# Make the API request\n",
    "r = requests.get(base_url, params=params).json()\n",
    "r = r['response']['rows']['content.freetext.date']\n",
    "smithsonian_df = pd.json_normalize(r)\n",
    "smithsonian_df"
   ]
  },
  {
   "cell_type": "code",
   "execution_count": null,
   "metadata": {},
   "outputs": [],
   "source": [
    "# Second step, clean the data possible second or third step is to filter.\n",
    "\n",
    "# cols = ['id','title','content.descriptiveNonRepeating.record_link','content.descriptiveNonRepeating.title.content'\n",
    "# 'content.descriptiveNonRepeating.data_source','content.indexedStructured.date','content.indexedStructured.object_type','content.indexedStructured.name',\n",
    "# 'content.indexedStructured.topic','content.indexedStructured.language','content.indexedStructured.place','content.freetext.date','content.indexedStructured.culture',\n",
    "# 'content.indexedStructured.online_media_rights','content.indexedStructured.online_media_type','content.freetext.culture','content.freetext.publisher']"
   ]
  },
  {
   "cell_type": "code",
   "execution_count": 19,
   "metadata": {},
   "outputs": [],
   "source": [
    "#exploring\n",
    "smithsonian_df.to_csv(r'C:\\Users\\Manuel Elizaldi\\Desktop\\Learning-Testing\\CultureAnalysis\\Resources\\smithsonian_df.csv')"
   ]
  },
  {
   "cell_type": "code",
   "execution_count": 5,
   "metadata": {},
   "outputs": [
    {
     "data": {
      "text/plain": [
       "<Response [400]>"
      ]
     },
     "execution_count": 5,
     "metadata": {},
     "output_type": "execute_result"
    }
   ],
   "source": [
    "places = ['Africa','Asia','Asia-Temperate','Asia-Tropical','Canada','Central America - Neotropics','China','Colombia','Costa Rica',\n",
    "          'Ecuador','Europe','Mexico','North America - Neotropics','North America','Pacific Islands','Panama','Peru',\n",
    "          'Philippines','South America - Neotropics','South America','Venezuela','West Indies - Neotropics ']\n",
    "\n",
    "base_url = 'https://api.si.edu/openaccess/api/v1.0/search'\n",
    "\n",
    "params = {'api_key':'ZNrnHGnCfKMQoe8v37pZx6PdEG02bvj5OQFApMk9',\n",
    "          'q':places[0:2],\n",
    "          'rows':1000,\n",
    "          'start':0}\n",
    "\n",
    "r = requests.get(url=base_url, params=params)\n",
    "r"
   ]
  },
  {
   "cell_type": "code",
   "execution_count": null,
   "metadata": {},
   "outputs": [],
   "source": [
    "def get_smithsonian_data(api_key, search_query):\n",
    "    base_url = \"https://api.si.edu/openaccess/api/v1.0/search\"\n",
    "    \n",
    "    # Define the parameters for the request\n",
    "    params = {\n",
    "        \"api_key\": api_key,\n",
    "        \"q\": search_query,  \n",
    "        \"rows\": 1000,        \n",
    "        \"start\": 0,          \n",
    "    }\n",
    "    \n",
    "    all_data = []\n",
    "\n",
    "    while True:\n",
    "        # Make the API request\n",
    "        response = requests.get(base_url, params=params)\n",
    "\n",
    "        if response.status_code == 200:\n",
    "            data = response.json()\n",
    "            records = data['response']['rows']\n",
    "            if not records:\n",
    "                break\n",
    "            \n",
    "            all_data.extend(records)\n",
    "            \n",
    "            # Increment the starting index for the next request\n",
    "            params['start'] += params['rows']\n",
    "        else:\n",
    "            print(f\"Error {response.status_code}: {response.text}\")\n",
    "            break\n",
    "\n",
    "    return all_data\n",
    "\n",
    "# Replace \"YOUR_API_KEY\" with the API key you obtained from the Smithsonian\n",
    "api_key = \"YOUR_API_KEY\"\n",
    "\n",
    "# Replace \"search_query\" with your desired search term (e.g., \"pottery\" or \"Egyptian art\")\n",
    "search_query = \"search_query\"\n",
    "\n",
    "# Retrieve all data from the Smithsonian API\n",
    "all_data = get_smithsonian_data(api_key, search_query)\n",
    "\n",
    "# Display the total number of records retrieved\n",
    "print(f\"Total records retrieved: {len(all_data)}\")"
   ]
  }
 ],
 "metadata": {
  "kernelspec": {
   "display_name": "base",
   "language": "python",
   "name": "python3"
  },
  "language_info": {
   "codemirror_mode": {
    "name": "ipython",
    "version": 3
   },
   "file_extension": ".py",
   "mimetype": "text/x-python",
   "name": "python",
   "nbconvert_exporter": "python",
   "pygments_lexer": "ipython3",
   "version": "3.8.5"
  },
  "orig_nbformat": 4
 },
 "nbformat": 4,
 "nbformat_minor": 2
}
