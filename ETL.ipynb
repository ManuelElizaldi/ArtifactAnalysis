{
 "cells": [
  {
   "cell_type": "code",
   "execution_count": 5,
   "metadata": {},
   "outputs": [],
   "source": [
    "import requests\n",
    "import pandas as pd\n",
    "from config import smithsonian_api_key"
   ]
  },
  {
   "cell_type": "markdown",
   "metadata": {},
   "source": [
    "## Art Institute of Chicago API"
   ]
  },
  {
   "cell_type": "code",
   "execution_count": null,
   "metadata": {},
   "outputs": [],
   "source": [
    "# Extracting data from Art Institute of Chicago API\n",
    "df = pd.DataFrame()\n",
    "for i in range(1,1500):\n",
    "    r = requests.get(url = f'https://api.artic.edu/api/v1/artworks?page={i}&limit=100').json()\n",
    "    r = pd.json_normalize(r, ['data'])\n",
    "    df = df.append(r, ignore_index=True) # type: ignore\n",
    "\n",
    "df.head(5)\n",
    "#df = pd.read_csv(r'C:\\Users\\Manuel Elizaldi\\Desktop\\Learning-Testing\\Artificial-Art\\Resources\\bigChicago_art.csv')"
   ]
  },
  {
   "cell_type": "markdown",
   "metadata": {},
   "source": [
    "# Smithsonian"
   ]
  },
  {
   "cell_type": "code",
   "execution_count": 6,
   "metadata": {},
   "outputs": [
    {
     "data": {
      "text/plain": [
       "{'status': 200,\n",
       " 'responseCode': 1,\n",
       " 'response': {'message': 'Your request is missing parameters. Refer to documentation.'}}"
      ]
     },
     "execution_count": 6,
     "metadata": {},
     "output_type": "execute_result"
    }
   ],
   "source": [
    "base_url = 'https://api.si.edu/openaccess/api/v1.0/terms/:Africa'\n",
    "params = {'api_key':smithsonian_api_key}\n",
    "r = requests.get(base_url, params=params).json()\n",
    "r"
   ]
  },
  {
   "cell_type": "code",
   "execution_count": null,
   "metadata": {},
   "outputs": [],
   "source": [
    "def get_smithsonian_data(api_key, search_query):\n",
    "    base_url = \"https://api.si.edu/openaccess/api/v1.0/search\"\n",
    "    \n",
    "    # Define the parameters for the request\n",
    "    params = {\n",
    "        \"api_key\": api_key,\n",
    "        \"q\": search_query,  # Search query (e.g., \"pottery\" or \"Egyptian art\")\n",
    "        \"rows\": 100,        # Number of results to retrieve per request (max 100)\n",
    "        \"start\": 0,         # Starting index for pagination\n",
    "    }\n",
    "    \n",
    "    all_data = []\n",
    "\n",
    "    while True:\n",
    "        # Make the API request\n",
    "        response = requests.get(base_url, params=params)\n",
    "\n",
    "        if response.status_code == 200:\n",
    "            data = response.json()\n",
    "            records = data['response']['rows']\n",
    "            if not records:\n",
    "                break\n",
    "            \n",
    "            all_data.extend(records)\n",
    "            \n",
    "            # Increment the starting index for the next request\n",
    "            # Implement this into my own function, maybe cap it at 500\n",
    "            params['start'] += params['rows']\n",
    "        else:\n",
    "            print(f\"Error {response.status_code}: {response.text}\")\n",
    "            break\n",
    "\n",
    "    return all_data\n",
    "\n",
    "# Replace \"YOUR_API_KEY\" with the API key you obtained from the Smithsonian\n",
    "api_key = \"YOUR_API_KEY\"\n",
    "\n",
    "# Replace \"search_query\" with your desired search term (e.g., \"pottery\" or \"Egyptian art\")\n",
    "search_query = \"search_query\"\n",
    "\n",
    "# Retrieve all data from the Smithsonian API\n",
    "all_data = get_smithsonian_data(api_key, search_query)\n",
    "\n",
    "# Display the total number of records retrieved\n",
    "print(f\"Total records retrieved: {len(all_data)}\")"
   ]
  },
  {
   "cell_type": "code",
   "execution_count": 3,
   "metadata": {},
   "outputs": [
    {
     "name": "stdout",
     "output_type": "stream",
     "text": [
      "Africa\n",
      "{'api_key': 'ZNrnHGnCfKMQoe8v37pZx6PdEG02bvj5OQFApMk9', 'q': 'Africa', 'rows': 100, 'start': 0}\n",
      "{'api_key': 'ZNrnHGnCfKMQoe8v37pZx6PdEG02bvj5OQFApMk9', 'q': 'Africa', 'rows': 100, 'start': 100}\n",
      "{'api_key': 'ZNrnHGnCfKMQoe8v37pZx6PdEG02bvj5OQFApMk9', 'q': 'Africa', 'rows': 100, 'start': 200}\n",
      "{'api_key': 'ZNrnHGnCfKMQoe8v37pZx6PdEG02bvj5OQFApMk9', 'q': 'Africa', 'rows': 100, 'start': 300}\n",
      "{'api_key': 'ZNrnHGnCfKMQoe8v37pZx6PdEG02bvj5OQFApMk9', 'q': 'Africa', 'rows': 100, 'start': 400}\n",
      "Asia\n",
      "{'api_key': 'ZNrnHGnCfKMQoe8v37pZx6PdEG02bvj5OQFApMk9', 'q': 'Asia', 'rows': 100, 'start': 0}\n",
      "{'api_key': 'ZNrnHGnCfKMQoe8v37pZx6PdEG02bvj5OQFApMk9', 'q': 'Asia', 'rows': 100, 'start': 100}\n",
      "{'api_key': 'ZNrnHGnCfKMQoe8v37pZx6PdEG02bvj5OQFApMk9', 'q': 'Asia', 'rows': 100, 'start': 200}\n",
      "{'api_key': 'ZNrnHGnCfKMQoe8v37pZx6PdEG02bvj5OQFApMk9', 'q': 'Asia', 'rows': 100, 'start': 300}\n",
      "{'api_key': 'ZNrnHGnCfKMQoe8v37pZx6PdEG02bvj5OQFApMk9', 'q': 'Asia', 'rows': 100, 'start': 400}\n",
      "Canada\n",
      "{'api_key': 'ZNrnHGnCfKMQoe8v37pZx6PdEG02bvj5OQFApMk9', 'q': 'Canada', 'rows': 100, 'start': 0}\n",
      "{'api_key': 'ZNrnHGnCfKMQoe8v37pZx6PdEG02bvj5OQFApMk9', 'q': 'Canada', 'rows': 100, 'start': 100}\n",
      "{'api_key': 'ZNrnHGnCfKMQoe8v37pZx6PdEG02bvj5OQFApMk9', 'q': 'Canada', 'rows': 100, 'start': 200}\n",
      "{'api_key': 'ZNrnHGnCfKMQoe8v37pZx6PdEG02bvj5OQFApMk9', 'q': 'Canada', 'rows': 100, 'start': 300}\n",
      "{'api_key': 'ZNrnHGnCfKMQoe8v37pZx6PdEG02bvj5OQFApMk9', 'q': 'Canada', 'rows': 100, 'start': 400}\n"
     ]
    }
   ],
   "source": [
    "# places = ['Africa','Asia','Canada','Central America - Neotropics','China','Colombia','Costa Rica',\n",
    "#           'Ecuador','Europe','Mexico','Pacific Islands','Panama','Peru',\n",
    "#           'Philippines','South America - Neotropics','South America','Venezuela','West Indies - Neotropics ']\n",
    "\n",
    "places = ['Africa','Asia', 'Canada']\n",
    "\n",
    "\n",
    "for i in places:\n",
    "    print(i)\n",
    "    params = {'api_key':'ZNrnHGnCfKMQoe8v37pZx6PdEG02bvj5OQFApMk9',\n",
    "          'q':i,\n",
    "          'rows':100,\n",
    "          'start':0}\n",
    "    for i in range(5):\n",
    "        print(params)\n",
    "        params['start'] += params['rows']"
   ]
  },
  {
   "cell_type": "markdown",
   "metadata": {},
   "source": [
    "# Checkpoint:\n",
    "Need to add a way to get 1000 from each country. "
   ]
  },
  {
   "cell_type": "code",
   "execution_count": 12,
   "metadata": {},
   "outputs": [
    {
     "name": "stdout",
     "output_type": "stream",
     "text": [
      "Africa\n",
      "Error 429: {\n",
      "  \"error\": {\n",
      "    \"code\": \"OVER_RATE_LIMIT\",\n",
      "    \"message\": \"You have exceeded your rate limit. Try again later or contact us at https://api.si.edu:443/contact/ for assistance\"\n",
      "  }\n",
      "}\n",
      "Asia\n",
      "Error 429: {\n",
      "  \"error\": {\n",
      "    \"code\": \"OVER_RATE_LIMIT\",\n",
      "    \"message\": \"You have exceeded your rate limit. Try again later or contact us at https://api.si.edu:443/contact/ for assistance\"\n",
      "  }\n",
      "}\n",
      "Canada\n",
      "Error 429: {\n",
      "  \"error\": {\n",
      "    \"code\": \"OVER_RATE_LIMIT\",\n",
      "    \"message\": \"You have exceeded your rate limit. Try again later or contact us at https://api.si.edu:443/contact/ for assistance\"\n",
      "  }\n",
      "}\n",
      "Central America - Neotropics\n",
      "Error 429: {\n",
      "  \"error\": {\n",
      "    \"code\": \"OVER_RATE_LIMIT\",\n",
      "    \"message\": \"You have exceeded your rate limit. Try again later or contact us at https://api.si.edu:443/contact/ for assistance\"\n",
      "  }\n",
      "}\n",
      "China\n",
      "Error 429: {\n",
      "  \"error\": {\n",
      "    \"code\": \"OVER_RATE_LIMIT\",\n",
      "    \"message\": \"You have exceeded your rate limit. Try again later or contact us at https://api.si.edu:443/contact/ for assistance\"\n",
      "  }\n",
      "}\n",
      "Colombia\n",
      "Error 429: {\n",
      "  \"error\": {\n",
      "    \"code\": \"OVER_RATE_LIMIT\",\n",
      "    \"message\": \"You have exceeded your rate limit. Try again later or contact us at https://api.si.edu:443/contact/ for assistance\"\n",
      "  }\n",
      "}\n",
      "Costa Rica\n",
      "Error 429: {\n",
      "  \"error\": {\n",
      "    \"code\": \"OVER_RATE_LIMIT\",\n",
      "    \"message\": \"You have exceeded your rate limit. Try again later or contact us at https://api.si.edu:443/contact/ for assistance\"\n",
      "  }\n",
      "}\n",
      "Ecuador\n",
      "Error 429: {\n",
      "  \"error\": {\n",
      "    \"code\": \"OVER_RATE_LIMIT\",\n",
      "    \"message\": \"You have exceeded your rate limit. Try again later or contact us at https://api.si.edu:443/contact/ for assistance\"\n",
      "  }\n",
      "}\n",
      "Europe\n",
      "Error 429: {\n",
      "  \"error\": {\n",
      "    \"code\": \"OVER_RATE_LIMIT\",\n",
      "    \"message\": \"You have exceeded your rate limit. Try again later or contact us at https://api.si.edu:443/contact/ for assistance\"\n",
      "  }\n",
      "}\n",
      "Mexico\n",
      "Error 429: {\n",
      "  \"error\": {\n",
      "    \"code\": \"OVER_RATE_LIMIT\",\n",
      "    \"message\": \"You have exceeded your rate limit. Try again later or contact us at https://api.si.edu:443/contact/ for assistance\"\n",
      "  }\n",
      "}\n",
      "Pacific Islands\n",
      "Error 429: {\n",
      "  \"error\": {\n",
      "    \"code\": \"OVER_RATE_LIMIT\",\n",
      "    \"message\": \"You have exceeded your rate limit. Try again later or contact us at https://api.si.edu:443/contact/ for assistance\"\n",
      "  }\n",
      "}\n",
      "Panama\n",
      "Error 429: {\n",
      "  \"error\": {\n",
      "    \"code\": \"OVER_RATE_LIMIT\",\n",
      "    \"message\": \"You have exceeded your rate limit. Try again later or contact us at https://api.si.edu:443/contact/ for assistance\"\n",
      "  }\n",
      "}\n",
      "Peru\n",
      "Error 429: {\n",
      "  \"error\": {\n",
      "    \"code\": \"OVER_RATE_LIMIT\",\n",
      "    \"message\": \"You have exceeded your rate limit. Try again later or contact us at https://api.si.edu:443/contact/ for assistance\"\n",
      "  }\n",
      "}\n",
      "Philippines\n",
      "Error 429: {\n",
      "  \"error\": {\n",
      "    \"code\": \"OVER_RATE_LIMIT\",\n",
      "    \"message\": \"You have exceeded your rate limit. Try again later or contact us at https://api.si.edu:443/contact/ for assistance\"\n",
      "  }\n",
      "}\n",
      "South America - Neotropics\n",
      "Error 429: {\n",
      "  \"error\": {\n",
      "    \"code\": \"OVER_RATE_LIMIT\",\n",
      "    \"message\": \"You have exceeded your rate limit. Try again later or contact us at https://api.si.edu:443/contact/ for assistance\"\n",
      "  }\n",
      "}\n",
      "South America\n",
      "Error 429: {\n",
      "  \"error\": {\n",
      "    \"code\": \"OVER_RATE_LIMIT\",\n",
      "    \"message\": \"You have exceeded your rate limit. Try again later or contact us at https://api.si.edu:443/contact/ for assistance\"\n",
      "  }\n",
      "}\n",
      "Venezuela\n",
      "Error 429: {\n",
      "  \"error\": {\n",
      "    \"code\": \"OVER_RATE_LIMIT\",\n",
      "    \"message\": \"You have exceeded your rate limit. Try again later or contact us at https://api.si.edu:443/contact/ for assistance\"\n",
      "  }\n",
      "}\n",
      "West Indies - Neotropics \n",
      "Error 429: {\n",
      "  \"error\": {\n",
      "    \"code\": \"OVER_RATE_LIMIT\",\n",
      "    \"message\": \"You have exceeded your rate limit. Try again later or contact us at https://api.si.edu:443/contact/ for assistance\"\n",
      "  }\n",
      "}\n"
     ]
    }
   ],
   "source": [
    "base_url = 'https://api.si.edu/openaccess/api/v1.0/search'\n",
    "\n",
    "places = ['Africa','Asia','Canada','Central America - Neotropics','China','Colombia','Costa Rica',\n",
    "          'Ecuador','Europe','Mexico','Pacific Islands','Panama','Peru',\n",
    "          'Philippines','South America - Neotropics','South America','Venezuela','West Indies - Neotropics ']\n",
    "\n",
    "# places = ['Africa','Asia','Canada']\n",
    "\n",
    "all_data = []\n",
    "iter = 1\n",
    "\n",
    "for i in places:\n",
    "    print(i)\n",
    "    params = {\n",
    "    'api_key':'ZNrnHGnCfKMQoe8v37pZx6PdEG02bvj5OQFApMk9',\n",
    "    'q':i,\n",
    "    'rows':10,\n",
    "    'start':0}\n",
    "    for i in range(150):\n",
    "        # Maybe implement a if len(df)<1500\n",
    "            # break\n",
    "        r = requests.get(url = base_url, params=params)\n",
    "        if r.status_code == 200:\n",
    "            data = r.json()\n",
    "            data = data['response']['rows']\n",
    "            if not data:\n",
    "                break\n",
    "            \n",
    "            all_data.extend(data)\n",
    "            \n",
    "            # Increment the starting index for the next request\n",
    "            params['start'] += params['rows']\n",
    "        else:\n",
    "            print(f\"Error {r.status_code}: {r.text}\")\n",
    "            break\n",
    "        \n",
    "all_data_df = pd.json_normalize(all_data)"
   ]
  },
  {
   "cell_type": "code",
   "execution_count": 11,
   "metadata": {},
   "outputs": [
    {
     "name": "stdout",
     "output_type": "stream",
     "text": [
      "10000\n"
     ]
    }
   ],
   "source": [
    "print(len(all_data_df))"
   ]
  },
  {
   "cell_type": "code",
   "execution_count": 9,
   "metadata": {},
   "outputs": [],
   "source": [
    "all_data_df.to_csv(r'C:\\Users\\USER\\Desktop\\Learning\\CultureAnalysis\\Resources\\09-07-23-test.csv', index=False)"
   ]
  },
  {
   "cell_type": "code",
   "execution_count": null,
   "metadata": {},
   "outputs": [],
   "source": [
    "all_data = pd.json_normalize(all_data)"
   ]
  },
  {
   "cell_type": "code",
   "execution_count": null,
   "metadata": {},
   "outputs": [],
   "source": []
  },
  {
   "cell_type": "code",
   "execution_count": null,
   "metadata": {},
   "outputs": [],
   "source": [
    "all_data_df = all_data_df[[\n",
    "    \"id\",\n",
    "    \"title\",\n",
    "    \"content.descriptiveNonRepeating.record_link\",\n",
    "    \"content.descriptiveNonRepeating.title.content\",\n",
    "    \"content.descriptiveNonRepeating.data_source\",\n",
    "    \"content.indexedStructured.date\",\n",
    "    \"content.indexedStructured.object_type\",\n",
    "    \"content.indexedStructured.name\",\n",
    "    \"content.indexedStructured.topic\",\n",
    "    \"content.indexedStructured.language\",\n",
    "    \"content.indexedStructured.place\",\n",
    "    \"content.freetext.date\",\n",
    "    \"content.indexedStructured.culture\",\n",
    "    \"content.indexedStructured.online_media_type\",\n",
    "    \"content.freetext.culture\",\n",
    "    \"content.freetext.publisher\"\n",
    "]]\n",
    "\n",
    "all_data_df"
   ]
  },
  {
   "cell_type": "code",
   "execution_count": null,
   "metadata": {},
   "outputs": [],
   "source": [
    "all_data_df.to_csv(r'C:\\Users\\USER\\Desktop\\Learning\\CultureAnalysis\\Resources\\09-06-23-test.csv')"
   ]
  },
  {
   "cell_type": "code",
   "execution_count": null,
   "metadata": {},
   "outputs": [],
   "source": [
    "# First step, extract data for each country/region\n",
    "\n",
    "base_url = \"https://api.si.edu/openaccess/api/v1.0/search\"\n",
    "\n",
    "# Define the parameters for the search request\n",
    "params = {\n",
    "    \"api_key\": smithsonian_api_key,\n",
    "    \"q\": 'Africa',\n",
    "    \"rows\": 1000, \n",
    "    \"start\": 0, \n",
    "}\n",
    "\n",
    "# Make the API request\n",
    "r = requests.get(base_url, params=params).json()\n",
    "r = r['response']['rows']\n",
    "smithsonian_df = pd.json_normalize(r)\n",
    "smithsonian_df"
   ]
  },
  {
   "cell_type": "code",
   "execution_count": null,
   "metadata": {},
   "outputs": [],
   "source": [
    "# Second step, clean the data possible second or third step is to filter.\n",
    "\n",
    "# cols = ['id','title','content.descriptiveNonRepeating.record_link','content.descriptiveNonRepeating.title.content'\n",
    "# 'content.descriptiveNonRepeating.data_source','content.indexedStructured.date','content.indexedStructured.object_type','content.indexedStructured.name',\n",
    "# 'content.indexedStructured.topic','content.indexedStructured.language','content.indexedStructured.place','content.freetext.date','content.indexedStructured.culture',\n",
    "# 'content.indexedStructured.online_media_rights','content.indexedStructured.online_media_type','content.freetext.culture','content.freetext.publisher']"
   ]
  },
  {
   "cell_type": "code",
   "execution_count": null,
   "metadata": {},
   "outputs": [],
   "source": [
    "#exploring\n",
    "smithsonian_df.to_csv(r'C:\\Users\\Manuel Elizaldi\\Desktop\\Learning-Testing\\CultureAnalysis\\Resources\\smithsonian_df.csv')"
   ]
  },
  {
   "cell_type": "code",
   "execution_count": null,
   "metadata": {},
   "outputs": [],
   "source": [
    "\n",
    "r"
   ]
  },
  {
   "cell_type": "code",
   "execution_count": null,
   "metadata": {},
   "outputs": [],
   "source": []
  }
 ],
 "metadata": {
  "kernelspec": {
   "display_name": "base",
   "language": "python",
   "name": "python3"
  },
  "language_info": {
   "codemirror_mode": {
    "name": "ipython",
    "version": 3
   },
   "file_extension": ".py",
   "mimetype": "text/x-python",
   "name": "python",
   "nbconvert_exporter": "python",
   "pygments_lexer": "ipython3",
   "version": "3.8.5"
  },
  "orig_nbformat": 4
 },
 "nbformat": 4,
 "nbformat_minor": 2
}
