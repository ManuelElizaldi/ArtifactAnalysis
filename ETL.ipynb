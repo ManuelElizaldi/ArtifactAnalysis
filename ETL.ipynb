{
 "cells": [
  {
   "cell_type": "code",
   "execution_count": 1,
   "metadata": {},
   "outputs": [],
   "source": [
    "import requests\n",
    "import pandas as pd\n",
    "from config import smithsonian_api_key"
   ]
  },
  {
   "cell_type": "markdown",
   "metadata": {},
   "source": [
    "## Art Institute of Chicago API"
   ]
  },
  {
   "cell_type": "code",
   "execution_count": null,
   "metadata": {},
   "outputs": [],
   "source": [
    "# Extracting data from Art Institute of Chicago API\n",
    "df = pd.DataFrame()\n",
    "for i in range(1,1500):\n",
    "    r = requests.get(url = f'https://api.artic.edu/api/v1/artworks?page={i}&limit=100').json()\n",
    "    r = pd.json_normalize(r, ['data'])\n",
    "    df = df.append(r, ignore_index=True) # type: ignore\n",
    "\n",
    "df.head(5)\n",
    "#df = pd.read_csv(r'C:\\Users\\Manuel Elizaldi\\Desktop\\Learning-Testing\\Artificial-Art\\Resources\\bigChicago_art.csv')"
   ]
  },
  {
   "cell_type": "markdown",
   "metadata": {},
   "source": [
    "# Smithsonian"
   ]
  },
  {
   "cell_type": "code",
   "execution_count": 6,
   "metadata": {},
   "outputs": [
    {
     "data": {
      "text/plain": [
       "{'status': 200,\n",
       " 'responseCode': 1,\n",
       " 'response': {'message': 'Your request is missing parameters. Refer to documentation.'}}"
      ]
     },
     "execution_count": 6,
     "metadata": {},
     "output_type": "execute_result"
    }
   ],
   "source": [
    "base_url = 'https://api.si.edu/openaccess/api/v1.0/terms/:Africa'\n",
    "params = {'api_key':smithsonian_api_key}\n",
    "r = requests.get(base_url, params=params).json()\n",
    "r"
   ]
  },
  {
   "cell_type": "code",
   "execution_count": null,
   "metadata": {},
   "outputs": [],
   "source": [
    "def get_smithsonian_data(api_key, search_query):\n",
    "    base_url = \"https://api.si.edu/openaccess/api/v1.0/search\"\n",
    "    \n",
    "    # Define the parameters for the request\n",
    "    params = {\n",
    "        \"api_key\": api_key,\n",
    "        \"q\": search_query,  # Search query (e.g., \"pottery\" or \"Egyptian art\")\n",
    "        \"rows\": 100,        # Number of results to retrieve per request (max 100)\n",
    "        \"start\": 0,         # Starting index for pagination\n",
    "    }\n",
    "    \n",
    "    all_data = []\n",
    "\n",
    "    while True:\n",
    "        # Make the API request\n",
    "        response = requests.get(base_url, params=params)\n",
    "\n",
    "        if response.status_code == 200:\n",
    "            data = response.json()\n",
    "            records = data['response']['rows']\n",
    "            if not records:\n",
    "                break\n",
    "            \n",
    "            all_data.extend(records)\n",
    "            \n",
    "            # Increment the starting index for the next request\n",
    "            params['start'] += params['rows']\n",
    "        else:\n",
    "            print(f\"Error {response.status_code}: {response.text}\")\n",
    "            break\n",
    "\n",
    "    return all_data\n",
    "\n",
    "# Replace \"YOUR_API_KEY\" with the API key you obtained from the Smithsonian\n",
    "api_key = \"YOUR_API_KEY\"\n",
    "\n",
    "# Replace \"search_query\" with your desired search term (e.g., \"pottery\" or \"Egyptian art\")\n",
    "search_query = \"search_query\"\n",
    "\n",
    "# Retrieve all data from the Smithsonian API\n",
    "all_data = get_smithsonian_data(api_key, search_query)\n",
    "\n",
    "# Display the total number of records retrieved\n",
    "print(f\"Total records retrieved: {len(all_data)}\")"
   ]
  },
  {
   "cell_type": "code",
   "execution_count": 13,
   "metadata": {},
   "outputs": [
    {
     "name": "stdout",
     "output_type": "stream",
     "text": [
      "Africa\n",
      "{'api_key': 'ZNrnHGnCfKMQoe8v37pZx6PdEG02bvj5OQFApMk9', 'q': 'Africa', 'rows': 100, 'start': 0}\n",
      "{'api_key': 'ZNrnHGnCfKMQoe8v37pZx6PdEG02bvj5OQFApMk9', 'q': 'Africa', 'rows': 100, 'start': 0}\n",
      "Asia\n",
      "{'api_key': 'ZNrnHGnCfKMQoe8v37pZx6PdEG02bvj5OQFApMk9', 'q': 'Asia', 'rows': 100, 'start': 0}\n",
      "{'api_key': 'ZNrnHGnCfKMQoe8v37pZx6PdEG02bvj5OQFApMk9', 'q': 'Asia', 'rows': 100, 'start': 0}\n",
      "Canada\n",
      "{'api_key': 'ZNrnHGnCfKMQoe8v37pZx6PdEG02bvj5OQFApMk9', 'q': 'Canada', 'rows': 100, 'start': 0}\n",
      "{'api_key': 'ZNrnHGnCfKMQoe8v37pZx6PdEG02bvj5OQFApMk9', 'q': 'Canada', 'rows': 100, 'start': 0}\n",
      "Central America - Neotropics\n",
      "{'api_key': 'ZNrnHGnCfKMQoe8v37pZx6PdEG02bvj5OQFApMk9', 'q': 'Central America - Neotropics', 'rows': 100, 'start': 0}\n",
      "{'api_key': 'ZNrnHGnCfKMQoe8v37pZx6PdEG02bvj5OQFApMk9', 'q': 'Central America - Neotropics', 'rows': 100, 'start': 0}\n",
      "China\n",
      "{'api_key': 'ZNrnHGnCfKMQoe8v37pZx6PdEG02bvj5OQFApMk9', 'q': 'China', 'rows': 100, 'start': 0}\n",
      "{'api_key': 'ZNrnHGnCfKMQoe8v37pZx6PdEG02bvj5OQFApMk9', 'q': 'China', 'rows': 100, 'start': 0}\n",
      "Colombia\n",
      "{'api_key': 'ZNrnHGnCfKMQoe8v37pZx6PdEG02bvj5OQFApMk9', 'q': 'Colombia', 'rows': 100, 'start': 0}\n",
      "{'api_key': 'ZNrnHGnCfKMQoe8v37pZx6PdEG02bvj5OQFApMk9', 'q': 'Colombia', 'rows': 100, 'start': 0}\n",
      "Costa Rica\n",
      "{'api_key': 'ZNrnHGnCfKMQoe8v37pZx6PdEG02bvj5OQFApMk9', 'q': 'Costa Rica', 'rows': 100, 'start': 0}\n",
      "{'api_key': 'ZNrnHGnCfKMQoe8v37pZx6PdEG02bvj5OQFApMk9', 'q': 'Costa Rica', 'rows': 100, 'start': 0}\n",
      "Ecuador\n",
      "{'api_key': 'ZNrnHGnCfKMQoe8v37pZx6PdEG02bvj5OQFApMk9', 'q': 'Ecuador', 'rows': 100, 'start': 0}\n",
      "{'api_key': 'ZNrnHGnCfKMQoe8v37pZx6PdEG02bvj5OQFApMk9', 'q': 'Ecuador', 'rows': 100, 'start': 0}\n",
      "Europe\n",
      "{'api_key': 'ZNrnHGnCfKMQoe8v37pZx6PdEG02bvj5OQFApMk9', 'q': 'Europe', 'rows': 100, 'start': 0}\n",
      "{'api_key': 'ZNrnHGnCfKMQoe8v37pZx6PdEG02bvj5OQFApMk9', 'q': 'Europe', 'rows': 100, 'start': 0}\n",
      "Mexico\n",
      "{'api_key': 'ZNrnHGnCfKMQoe8v37pZx6PdEG02bvj5OQFApMk9', 'q': 'Mexico', 'rows': 100, 'start': 0}\n",
      "{'api_key': 'ZNrnHGnCfKMQoe8v37pZx6PdEG02bvj5OQFApMk9', 'q': 'Mexico', 'rows': 100, 'start': 0}\n",
      "Pacific Islands\n",
      "{'api_key': 'ZNrnHGnCfKMQoe8v37pZx6PdEG02bvj5OQFApMk9', 'q': 'Pacific Islands', 'rows': 100, 'start': 0}\n",
      "{'api_key': 'ZNrnHGnCfKMQoe8v37pZx6PdEG02bvj5OQFApMk9', 'q': 'Pacific Islands', 'rows': 100, 'start': 0}\n",
      "Panama\n",
      "{'api_key': 'ZNrnHGnCfKMQoe8v37pZx6PdEG02bvj5OQFApMk9', 'q': 'Panama', 'rows': 100, 'start': 0}\n",
      "{'api_key': 'ZNrnHGnCfKMQoe8v37pZx6PdEG02bvj5OQFApMk9', 'q': 'Panama', 'rows': 100, 'start': 0}\n",
      "Peru\n",
      "{'api_key': 'ZNrnHGnCfKMQoe8v37pZx6PdEG02bvj5OQFApMk9', 'q': 'Peru', 'rows': 100, 'start': 0}\n",
      "{'api_key': 'ZNrnHGnCfKMQoe8v37pZx6PdEG02bvj5OQFApMk9', 'q': 'Peru', 'rows': 100, 'start': 0}\n",
      "Philippines\n",
      "{'api_key': 'ZNrnHGnCfKMQoe8v37pZx6PdEG02bvj5OQFApMk9', 'q': 'Philippines', 'rows': 100, 'start': 0}\n",
      "{'api_key': 'ZNrnHGnCfKMQoe8v37pZx6PdEG02bvj5OQFApMk9', 'q': 'Philippines', 'rows': 100, 'start': 0}\n",
      "South America - Neotropics\n",
      "{'api_key': 'ZNrnHGnCfKMQoe8v37pZx6PdEG02bvj5OQFApMk9', 'q': 'South America - Neotropics', 'rows': 100, 'start': 0}\n",
      "{'api_key': 'ZNrnHGnCfKMQoe8v37pZx6PdEG02bvj5OQFApMk9', 'q': 'South America - Neotropics', 'rows': 100, 'start': 0}\n",
      "South America\n",
      "{'api_key': 'ZNrnHGnCfKMQoe8v37pZx6PdEG02bvj5OQFApMk9', 'q': 'South America', 'rows': 100, 'start': 0}\n",
      "{'api_key': 'ZNrnHGnCfKMQoe8v37pZx6PdEG02bvj5OQFApMk9', 'q': 'South America', 'rows': 100, 'start': 0}\n",
      "Venezuela\n",
      "{'api_key': 'ZNrnHGnCfKMQoe8v37pZx6PdEG02bvj5OQFApMk9', 'q': 'Venezuela', 'rows': 100, 'start': 0}\n",
      "{'api_key': 'ZNrnHGnCfKMQoe8v37pZx6PdEG02bvj5OQFApMk9', 'q': 'Venezuela', 'rows': 100, 'start': 0}\n",
      "West Indies - Neotropics \n",
      "{'api_key': 'ZNrnHGnCfKMQoe8v37pZx6PdEG02bvj5OQFApMk9', 'q': 'West Indies - Neotropics ', 'rows': 100, 'start': 0}\n",
      "{'api_key': 'ZNrnHGnCfKMQoe8v37pZx6PdEG02bvj5OQFApMk9', 'q': 'West Indies - Neotropics ', 'rows': 100, 'start': 0}\n"
     ]
    }
   ],
   "source": [
    "# places = ['Africa','Asia','Canada','Central America - Neotropics','China','Colombia','Costa Rica',\n",
    "#           'Ecuador','Europe','Mexico','Pacific Islands','Panama','Peru',\n",
    "#           'Philippines','South America - Neotropics','South America','Venezuela','West Indies - Neotropics ']\n",
    "\n",
    "places = ['Africa','Asia']\n",
    "\n",
    "\n",
    "for i in places:\n",
    "    print(i)\n",
    "    params = {'api_key':'ZNrnHGnCfKMQoe8v37pZx6PdEG02bvj5OQFApMk9',\n",
    "          'q':i,\n",
    "          'rows':100,\n",
    "          'start':0}\n",
    "    for i in range(2):\n",
    "        print(params)"
   ]
  },
  {
   "cell_type": "markdown",
   "metadata": {},
   "source": [
    "# Checkpoint:\n",
    "Need to add a way to get 1000 from each country. "
   ]
  },
  {
   "cell_type": "code",
   "execution_count": 2,
   "metadata": {},
   "outputs": [
    {
     "name": "stdout",
     "output_type": "stream",
     "text": [
      "Africa\n",
      "Iteration: 1\n",
      "Iteration: 2\n",
      "Asia\n",
      "Iteration: 3\n",
      "Iteration: 4\n"
     ]
    }
   ],
   "source": [
    "base_url = 'https://api.si.edu/openaccess/api/v1.0/search'\n",
    "\n",
    "# places = ['Africa','Asia','Canada','Central America - Neotropics','China','Colombia','Costa Rica',\n",
    "#           'Ecuador','Europe','Mexico','Pacific Islands','Panama','Peru',\n",
    "#           'Philippines','South America - Neotropics','South America','Venezuela','West Indies - Neotropics ']\n",
    "\n",
    "places = ['Africa','Asia']\n",
    "\n",
    "all_data = []\n",
    "iter = 1\n",
    "\n",
    "for i in places:\n",
    "    print(i)\n",
    "    for i in range(2):\n",
    "        print('Iteration:', iter,)       \n",
    "        params = {'api_key':smithsonian_api_key,\n",
    "            'q':i,\n",
    "            'rows':100,\n",
    "            'start':0}\n",
    "        r = requests.get(url = base_url, params=params)\n",
    "        if r.status_code == 200:\n",
    "            data = r.json()\n",
    "            data = data['response']['rows']\n",
    "            if not data:\n",
    "                break\n",
    "            \n",
    "            all_data.extend(data)\n",
    "            \n",
    "            # Increment the starting index for the next request\n",
    "            params['start'] += params['rows']\n",
    "            iter = iter + 1\n",
    "            \n",
    "        else:\n",
    "            print(f\"Error {r.status_code}: {r.text}\")\n",
    "            break\n",
    "        \n",
    "all_data_df = pd.json_normalize(all_data)"
   ]
  },
  {
   "cell_type": "code",
   "execution_count": 4,
   "metadata": {},
   "outputs": [],
   "source": [
    "all_data_df.to_csv(r'C:\\Users\\USER\\Desktop\\Learning\\CultureAnalysis\\Resources\\09-06-23-test.csv')"
   ]
  },
  {
   "cell_type": "code",
   "execution_count": null,
   "metadata": {},
   "outputs": [],
   "source": [
    "all_data = pd.json_normalize(all_data)"
   ]
  },
  {
   "cell_type": "code",
   "execution_count": null,
   "metadata": {},
   "outputs": [],
   "source": []
  },
  {
   "cell_type": "code",
   "execution_count": null,
   "metadata": {},
   "outputs": [],
   "source": [
    "all_data_df = all_data_df[[\n",
    "    \"id\",\n",
    "    \"title\",\n",
    "    \"content.descriptiveNonRepeating.record_link\",\n",
    "    \"content.descriptiveNonRepeating.title.content\",\n",
    "    \"content.descriptiveNonRepeating.data_source\",\n",
    "    \"content.indexedStructured.date\",\n",
    "    \"content.indexedStructured.object_type\",\n",
    "    \"content.indexedStructured.name\",\n",
    "    \"content.indexedStructured.topic\",\n",
    "    \"content.indexedStructured.language\",\n",
    "    \"content.indexedStructured.place\",\n",
    "    \"content.freetext.date\",\n",
    "    \"content.indexedStructured.culture\",\n",
    "    \"content.indexedStructured.online_media_type\",\n",
    "    \"content.freetext.culture\",\n",
    "    \"content.freetext.publisher\"\n",
    "]]\n",
    "\n",
    "all_data_df"
   ]
  },
  {
   "cell_type": "code",
   "execution_count": null,
   "metadata": {},
   "outputs": [],
   "source": [
    "all_data_df.to_csv(r'C:\\Users\\USER\\Desktop\\Learning\\CultureAnalysis\\Resources\\09-06-23-test.csv')"
   ]
  },
  {
   "cell_type": "code",
   "execution_count": null,
   "metadata": {},
   "outputs": [],
   "source": [
    "# First step, extract data for each country/region\n",
    "\n",
    "base_url = \"https://api.si.edu/openaccess/api/v1.0/search\"\n",
    "\n",
    "# Define the parameters for the search request\n",
    "params = {\n",
    "    \"api_key\": smithsonian_api_key,\n",
    "    \"q\": 'Africa',\n",
    "    \"rows\": 1000, \n",
    "    \"start\": 0, \n",
    "}\n",
    "\n",
    "# Make the API request\n",
    "r = requests.get(base_url, params=params).json()\n",
    "r = r['response']['rows']\n",
    "smithsonian_df = pd.json_normalize(r)\n",
    "smithsonian_df"
   ]
  },
  {
   "cell_type": "code",
   "execution_count": null,
   "metadata": {},
   "outputs": [],
   "source": [
    "# Second step, clean the data possible second or third step is to filter.\n",
    "\n",
    "# cols = ['id','title','content.descriptiveNonRepeating.record_link','content.descriptiveNonRepeating.title.content'\n",
    "# 'content.descriptiveNonRepeating.data_source','content.indexedStructured.date','content.indexedStructured.object_type','content.indexedStructured.name',\n",
    "# 'content.indexedStructured.topic','content.indexedStructured.language','content.indexedStructured.place','content.freetext.date','content.indexedStructured.culture',\n",
    "# 'content.indexedStructured.online_media_rights','content.indexedStructured.online_media_type','content.freetext.culture','content.freetext.publisher']"
   ]
  },
  {
   "cell_type": "code",
   "execution_count": null,
   "metadata": {},
   "outputs": [],
   "source": [
    "#exploring\n",
    "smithsonian_df.to_csv(r'C:\\Users\\Manuel Elizaldi\\Desktop\\Learning-Testing\\CultureAnalysis\\Resources\\smithsonian_df.csv')"
   ]
  },
  {
   "cell_type": "code",
   "execution_count": null,
   "metadata": {},
   "outputs": [],
   "source": [
    "\n",
    "r"
   ]
  },
  {
   "cell_type": "code",
   "execution_count": null,
   "metadata": {},
   "outputs": [],
   "source": []
  }
 ],
 "metadata": {
  "kernelspec": {
   "display_name": "base",
   "language": "python",
   "name": "python3"
  },
  "language_info": {
   "codemirror_mode": {
    "name": "ipython",
    "version": 3
   },
   "file_extension": ".py",
   "mimetype": "text/x-python",
   "name": "python",
   "nbconvert_exporter": "python",
   "pygments_lexer": "ipython3",
   "version": "3.8.5"
  },
  "orig_nbformat": 4
 },
 "nbformat": 4,
 "nbformat_minor": 2
}
